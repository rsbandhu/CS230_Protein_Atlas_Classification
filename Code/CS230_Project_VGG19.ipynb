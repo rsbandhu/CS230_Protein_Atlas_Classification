{
 "cells": [
  {
   "cell_type": "code",
   "execution_count": 6,
   "metadata": {},
   "outputs": [],
   "source": [
    "import torchvision\n",
    "from torchvision import models, datasets, transforms\n",
    "import torch\n",
    "import torch.optim as optim\n",
    "from torch.autograd import Variable\n",
    "from torch.utils.data import Dataset, DataLoader\n",
    "import scipy.misc as misc\n",
    "import utils\n",
    "import os\n",
    "import numpy as np\n",
    "from models.VGG19_1.data_loader import Dataloader\n",
    "import time\n",
    "\n",
    "%load_ext autoreload\n",
    "%autoreload 2"
   ]
  },
  {
   "cell_type": "code",
   "execution_count": 4,
   "metadata": {},
   "outputs": [
    {
     "data": {
      "text/plain": [
       "'C:\\\\Users\\\\rsbandhu\\\\Documents\\\\MUSTBACKUP\\\\Details\\\\Computers\\\\Python'"
      ]
     },
     "execution_count": 4,
     "metadata": {},
     "output_type": "execute_result"
    }
   ],
   "source": [
    "pwd"
   ]
  },
  {
   "cell_type": "markdown",
   "metadata": {},
   "source": [
    "# Instantiating the model from the torch site"
   ]
  },
  {
   "cell_type": "code",
   "execution_count": 16,
   "metadata": {},
   "outputs": [
    {
     "data": {
      "text/plain": [
       "VGG(\n",
       "  (features): Sequential(\n",
       "    (0): Conv2d(3, 64, kernel_size=(3, 3), stride=(1, 1), padding=(1, 1))\n",
       "    (1): BatchNorm2d(64, eps=1e-05, momentum=0.1, affine=True, track_running_stats=True)\n",
       "    (2): ReLU(inplace)\n",
       "    (3): Conv2d(64, 64, kernel_size=(3, 3), stride=(1, 1), padding=(1, 1))\n",
       "    (4): BatchNorm2d(64, eps=1e-05, momentum=0.1, affine=True, track_running_stats=True)\n",
       "    (5): ReLU(inplace)\n",
       "    (6): MaxPool2d(kernel_size=2, stride=2, padding=0, dilation=1, ceil_mode=False)\n",
       "    (7): Conv2d(64, 128, kernel_size=(3, 3), stride=(1, 1), padding=(1, 1))\n",
       "    (8): BatchNorm2d(128, eps=1e-05, momentum=0.1, affine=True, track_running_stats=True)\n",
       "    (9): ReLU(inplace)\n",
       "    (10): Conv2d(128, 128, kernel_size=(3, 3), stride=(1, 1), padding=(1, 1))\n",
       "    (11): BatchNorm2d(128, eps=1e-05, momentum=0.1, affine=True, track_running_stats=True)\n",
       "    (12): ReLU(inplace)\n",
       "    (13): MaxPool2d(kernel_size=2, stride=2, padding=0, dilation=1, ceil_mode=False)\n",
       "    (14): Conv2d(128, 256, kernel_size=(3, 3), stride=(1, 1), padding=(1, 1))\n",
       "    (15): BatchNorm2d(256, eps=1e-05, momentum=0.1, affine=True, track_running_stats=True)\n",
       "    (16): ReLU(inplace)\n",
       "    (17): Conv2d(256, 256, kernel_size=(3, 3), stride=(1, 1), padding=(1, 1))\n",
       "    (18): BatchNorm2d(256, eps=1e-05, momentum=0.1, affine=True, track_running_stats=True)\n",
       "    (19): ReLU(inplace)\n",
       "    (20): Conv2d(256, 256, kernel_size=(3, 3), stride=(1, 1), padding=(1, 1))\n",
       "    (21): BatchNorm2d(256, eps=1e-05, momentum=0.1, affine=True, track_running_stats=True)\n",
       "    (22): ReLU(inplace)\n",
       "    (23): Conv2d(256, 256, kernel_size=(3, 3), stride=(1, 1), padding=(1, 1))\n",
       "    (24): BatchNorm2d(256, eps=1e-05, momentum=0.1, affine=True, track_running_stats=True)\n",
       "    (25): ReLU(inplace)\n",
       "    (26): MaxPool2d(kernel_size=2, stride=2, padding=0, dilation=1, ceil_mode=False)\n",
       "    (27): Conv2d(256, 512, kernel_size=(3, 3), stride=(1, 1), padding=(1, 1))\n",
       "    (28): BatchNorm2d(512, eps=1e-05, momentum=0.1, affine=True, track_running_stats=True)\n",
       "    (29): ReLU(inplace)\n",
       "    (30): Conv2d(512, 512, kernel_size=(3, 3), stride=(1, 1), padding=(1, 1))\n",
       "    (31): BatchNorm2d(512, eps=1e-05, momentum=0.1, affine=True, track_running_stats=True)\n",
       "    (32): ReLU(inplace)\n",
       "    (33): Conv2d(512, 512, kernel_size=(3, 3), stride=(1, 1), padding=(1, 1))\n",
       "    (34): BatchNorm2d(512, eps=1e-05, momentum=0.1, affine=True, track_running_stats=True)\n",
       "    (35): ReLU(inplace)\n",
       "    (36): Conv2d(512, 512, kernel_size=(3, 3), stride=(1, 1), padding=(1, 1))\n",
       "    (37): BatchNorm2d(512, eps=1e-05, momentum=0.1, affine=True, track_running_stats=True)\n",
       "    (38): ReLU(inplace)\n",
       "    (39): MaxPool2d(kernel_size=2, stride=2, padding=0, dilation=1, ceil_mode=False)\n",
       "    (40): Conv2d(512, 512, kernel_size=(3, 3), stride=(1, 1), padding=(1, 1))\n",
       "    (41): BatchNorm2d(512, eps=1e-05, momentum=0.1, affine=True, track_running_stats=True)\n",
       "    (42): ReLU(inplace)\n",
       "    (43): Conv2d(512, 512, kernel_size=(3, 3), stride=(1, 1), padding=(1, 1))\n",
       "    (44): BatchNorm2d(512, eps=1e-05, momentum=0.1, affine=True, track_running_stats=True)\n",
       "    (45): ReLU(inplace)\n",
       "    (46): Conv2d(512, 512, kernel_size=(3, 3), stride=(1, 1), padding=(1, 1))\n",
       "    (47): BatchNorm2d(512, eps=1e-05, momentum=0.1, affine=True, track_running_stats=True)\n",
       "    (48): ReLU(inplace)\n",
       "    (49): Conv2d(512, 512, kernel_size=(3, 3), stride=(1, 1), padding=(1, 1))\n",
       "    (50): BatchNorm2d(512, eps=1e-05, momentum=0.1, affine=True, track_running_stats=True)\n",
       "    (51): ReLU(inplace)\n",
       "    (52): MaxPool2d(kernel_size=2, stride=2, padding=0, dilation=1, ceil_mode=False)\n",
       "  )\n",
       "  (classifier): Sequential(\n",
       "    (0): Linear(in_features=25088, out_features=4096, bias=True)\n",
       "    (1): ReLU(inplace)\n",
       "    (2): Dropout(p=0.5)\n",
       "    (3): Linear(in_features=4096, out_features=4096, bias=True)\n",
       "    (4): ReLU(inplace)\n",
       "    (5): Dropout(p=0.5)\n",
       "    (6): Linear(in_features=4096, out_features=1000, bias=True)\n",
       "  )\n",
       ")"
      ]
     },
     "execution_count": 16,
     "metadata": {},
     "output_type": "execute_result"
    }
   ],
   "source": [
    "vgg19 = models.vgg19_bn(pretrained=True)\n",
    "for param in vgg19.parameters():\n",
    "    param.requires_grad = False\n",
    "vgg19"
   ]
  },
  {
   "cell_type": "code",
   "execution_count": 17,
   "metadata": {},
   "outputs": [
    {
     "data": {
      "text/plain": [
       "VGG(\n",
       "  (features): Sequential(\n",
       "    (0): Conv2d(3, 64, kernel_size=(3, 3), stride=(1, 1), padding=(1, 1))\n",
       "    (1): BatchNorm2d(64, eps=1e-05, momentum=0.1, affine=True, track_running_stats=True)\n",
       "    (2): ReLU(inplace)\n",
       "    (3): Conv2d(64, 64, kernel_size=(3, 3), stride=(1, 1), padding=(1, 1))\n",
       "    (4): BatchNorm2d(64, eps=1e-05, momentum=0.1, affine=True, track_running_stats=True)\n",
       "    (5): ReLU(inplace)\n",
       "    (6): MaxPool2d(kernel_size=2, stride=2, padding=0, dilation=1, ceil_mode=False)\n",
       "    (7): Conv2d(64, 128, kernel_size=(3, 3), stride=(1, 1), padding=(1, 1))\n",
       "    (8): BatchNorm2d(128, eps=1e-05, momentum=0.1, affine=True, track_running_stats=True)\n",
       "    (9): ReLU(inplace)\n",
       "    (10): Conv2d(128, 128, kernel_size=(3, 3), stride=(1, 1), padding=(1, 1))\n",
       "    (11): BatchNorm2d(128, eps=1e-05, momentum=0.1, affine=True, track_running_stats=True)\n",
       "    (12): ReLU(inplace)\n",
       "    (13): MaxPool2d(kernel_size=2, stride=2, padding=0, dilation=1, ceil_mode=False)\n",
       "    (14): Conv2d(128, 256, kernel_size=(3, 3), stride=(1, 1), padding=(1, 1))\n",
       "    (15): BatchNorm2d(256, eps=1e-05, momentum=0.1, affine=True, track_running_stats=True)\n",
       "    (16): ReLU(inplace)\n",
       "    (17): Conv2d(256, 256, kernel_size=(3, 3), stride=(1, 1), padding=(1, 1))\n",
       "    (18): BatchNorm2d(256, eps=1e-05, momentum=0.1, affine=True, track_running_stats=True)\n",
       "    (19): ReLU(inplace)\n",
       "    (20): Conv2d(256, 256, kernel_size=(3, 3), stride=(1, 1), padding=(1, 1))\n",
       "    (21): BatchNorm2d(256, eps=1e-05, momentum=0.1, affine=True, track_running_stats=True)\n",
       "    (22): ReLU(inplace)\n",
       "    (23): Conv2d(256, 256, kernel_size=(3, 3), stride=(1, 1), padding=(1, 1))\n",
       "    (24): BatchNorm2d(256, eps=1e-05, momentum=0.1, affine=True, track_running_stats=True)\n",
       "    (25): ReLU(inplace)\n",
       "    (26): MaxPool2d(kernel_size=2, stride=2, padding=0, dilation=1, ceil_mode=False)\n",
       "    (27): Conv2d(256, 512, kernel_size=(3, 3), stride=(1, 1), padding=(1, 1))\n",
       "    (28): BatchNorm2d(512, eps=1e-05, momentum=0.1, affine=True, track_running_stats=True)\n",
       "    (29): ReLU(inplace)\n",
       "    (30): Conv2d(512, 512, kernel_size=(3, 3), stride=(1, 1), padding=(1, 1))\n",
       "    (31): BatchNorm2d(512, eps=1e-05, momentum=0.1, affine=True, track_running_stats=True)\n",
       "    (32): ReLU(inplace)\n",
       "    (33): Conv2d(512, 512, kernel_size=(3, 3), stride=(1, 1), padding=(1, 1))\n",
       "    (34): BatchNorm2d(512, eps=1e-05, momentum=0.1, affine=True, track_running_stats=True)\n",
       "    (35): ReLU(inplace)\n",
       "    (36): Conv2d(512, 512, kernel_size=(3, 3), stride=(1, 1), padding=(1, 1))\n",
       "    (37): BatchNorm2d(512, eps=1e-05, momentum=0.1, affine=True, track_running_stats=True)\n",
       "    (38): ReLU(inplace)\n",
       "    (39): MaxPool2d(kernel_size=2, stride=2, padding=0, dilation=1, ceil_mode=False)\n",
       "    (40): Conv2d(512, 512, kernel_size=(3, 3), stride=(1, 1), padding=(1, 1))\n",
       "    (41): BatchNorm2d(512, eps=1e-05, momentum=0.1, affine=True, track_running_stats=True)\n",
       "    (42): ReLU(inplace)\n",
       "    (43): Conv2d(512, 512, kernel_size=(3, 3), stride=(1, 1), padding=(1, 1))\n",
       "    (44): BatchNorm2d(512, eps=1e-05, momentum=0.1, affine=True, track_running_stats=True)\n",
       "    (45): ReLU(inplace)\n",
       "    (46): Conv2d(512, 512, kernel_size=(3, 3), stride=(1, 1), padding=(1, 1))\n",
       "    (47): BatchNorm2d(512, eps=1e-05, momentum=0.1, affine=True, track_running_stats=True)\n",
       "    (48): ReLU(inplace)\n",
       "    (49): Conv2d(512, 512, kernel_size=(3, 3), stride=(1, 1), padding=(1, 1))\n",
       "    (50): BatchNorm2d(512, eps=1e-05, momentum=0.1, affine=True, track_running_stats=True)\n",
       "    (51): ReLU(inplace)\n",
       "    (52): MaxPool2d(kernel_size=2, stride=2, padding=0, dilation=1, ceil_mode=False)\n",
       "  )\n",
       "  (classifier): Sequential(\n",
       "    (0): Linear(in_features=25088, out_features=4096, bias=True)\n",
       "    (1): ReLU(inplace)\n",
       "    (2): Dropout(p=0.5)\n",
       "    (3): Linear(in_features=4096, out_features=4096, bias=True)\n",
       "  )\n",
       ")"
      ]
     },
     "execution_count": 17,
     "metadata": {},
     "output_type": "execute_result"
    }
   ],
   "source": [
    "features = list(vgg19.classifier.children())[:-3]\n",
    "vgg19.classifier = torch.nn.Sequential(*features)\n",
    "vgg19"
   ]
  },
  {
   "cell_type": "markdown",
   "metadata": {},
   "source": [
    "# Run all the images (resized to 224 X 224 and normalized to 0 mean and stddev =1 ) through the VGG19 pretrained network except the final FC layer"
   ]
  },
  {
   "cell_type": "code",
   "execution_count": 22,
   "metadata": {},
   "outputs": [
    {
     "name": "stdout",
     "output_type": "stream",
     "text": [
      "C:\\Users\\rsbandhu\\Documents\\MUSTBACKUP\\Details\\Computers\\DeepLearning_Stanford_CS230\\Project\\all\\CS230_Protein_Atlas_Classification-master\\Code\n",
      "C:\\Users\\rsbandhu\\Documents\\MUSTBACKUP\\Details\\Computers\\DeepLearning_Stanford_CS230\\Project\\all\\train\n",
      "train\n",
      "datatype is train\n",
      "image id count =  31072\n",
      "image count =  0 0.0\n",
      "image count =  500 676.0679607391357\n",
      "image count =  1000 732.849915266037\n",
      "image count =  1500 784.7934126853943\n",
      "image count =  2000 635.7731037139893\n",
      "image count =  2500 648.7410137653351\n",
      "image count =  3000 632.0973634719849\n",
      "image count =  3500 624.4790012836456\n",
      "image count =  4000 659.1295218467712\n",
      "image count =  4500 639.6981887817383\n",
      "image count =  5000 673.1828234195709\n",
      "image count =  5500 637.7255628108978\n",
      "image count =  6000 633.0835666656494\n",
      "image count =  6500 771.5349795818329\n",
      "image count =  7000 776.5852119922638\n",
      "image count =  7500 779.4720463752747\n",
      "image count =  8000 779.9058120250702\n",
      "image count =  8500 773.4134390354156\n",
      "image count =  9000 774.6058115959167\n",
      "image count =  9500 775.7667586803436\n",
      "image count =  10000 777.1689460277557\n",
      "image count =  10500 781.4533412456512\n",
      "image count =  11000 787.8635325431824\n",
      "image count =  11500 677.8612451553345\n",
      "image count =  12000 634.9610142707825\n",
      "image count =  12500 666.1854891777039\n",
      "image count =  13000 801.5382740497589\n",
      "image count =  13500 650.9273838996887\n",
      "image count =  14000 596.9658205509186\n",
      "image count =  14500 663.396238565445\n",
      "image count =  15000 742.3709082603455\n",
      "image count =  15500 687.9651429653168\n",
      "image count =  16000 804.0608518123627\n",
      "image count =  16500 652.4057734012604\n",
      "image count =  17000 682.8480896949768\n",
      "image count =  17500 728.4037139415741\n",
      "image count =  18000 737.0134556293488\n",
      "image count =  18500 929.3757541179657\n",
      "image count =  19000 836.0230793952942\n",
      "image count =  19500 870.6319901943207\n",
      "image count =  20000 779.5354878902435\n",
      "image count =  20500 802.7730107307434\n",
      "image count =  21000 822.6973736286163\n",
      "image count =  21500 769.8916759490967\n",
      "image count =  22000 802.9551441669464\n",
      "image count =  22500 767.6037173271179\n",
      "image count =  23000 817.573812007904\n",
      "image count =  23500 814.7453048229218\n",
      "image count =  24000 738.4857530593872\n",
      "image count =  24500 778.0404329299927\n",
      "image count =  25000 797.4742729663849\n",
      "image count =  25500 722.5115368366241\n",
      "image count =  26000 631.3347508907318\n",
      "image count =  26500 837.7019474506378\n",
      "image count =  27000 812.8370590209961\n",
      "image count =  27500 813.3694171905518\n",
      "image count =  28000 679.4304728507996\n",
      "image count =  28500 602.0564777851105\n",
      "image count =  29000 600.0550141334534\n",
      "image count =  29500 600.2729814052582\n",
      "image count =  30000 601.5829832553864\n",
      "image count =  30500 599.5071654319763\n",
      "image count =  31000 598.3463156223297\n",
      "Finished evaluation, next step is to save the data to file\n"
     ]
    }
   ],
   "source": [
    "cur_dir = os.getcwd()\n",
    "print(cur_dir)\n",
    "json_path = os.path.join(cur_dir,'models\\VGG19_1\\params.json')\n",
    "params = utils.Params(json_path)\n",
    "data_loader = Dataloader(params)\n",
    "\n",
    "\n",
    "vgg19_eval = vgg19.eval()\n",
    "image_feature_dict = {}\n",
    "image_dict = data_loader.load_data(\"train\", params)\n",
    "img_count = 0\n",
    "t0 = time.time()\n",
    "for img_id in image_dict:\n",
    "    if (img_count %500 == 0):\n",
    "        t1 = time.time()\n",
    "        print(\"image count = \", img_count, t1-t0)\n",
    "        t0 = t1\n",
    "    input_img = data_loader.load_single_image(\"train\", params, img_id)\n",
    "    vgg19_eval_out = vgg19_eval(input_img)\n",
    "    image_feature_dict[img_id] = vgg19_eval_out\n",
    "\n",
    "    img_count += 1\n",
    "\n",
    "print(\"Finished evaluation, next step is to save the data to file\")\n",
    "\n",
    "f = open(\"image_resize224_feature4096.txt\", \"w\")\n",
    "for item in key_list:\n",
    "    val = str(image_feature_dict[item].tolist())\n",
    "    f.write(item+\":\"+val+\"\\n\")\n",
    "f.close()"
   ]
  },
  {
   "cell_type": "code",
   "execution_count": null,
   "metadata": {
    "collapsed": true
   },
   "outputs": [],
   "source": [
    "import models.VGG19_1.net as net\n",
    "\n",
    "cur_dir = os.getcwd()\n",
    "print(cur_dir)\n",
    "json_path = os.path.join(cur_dir,'models\\VGG19_1\\params.json')\n",
    "params = utils.Params(json_path)\n",
    "data_loader = Dataloader(params)\n",
    "\n",
    "labels_dict = data_loader.load_labels(\"train\", params)"
   ]
  },
  {
   "cell_type": "code",
   "execution_count": null,
   "metadata": {
    "collapsed": true
   },
   "outputs": [],
   "source": [
    "# Shuffle the images for training \n",
    "key_list = []\n",
    "for key in img_feature:\n",
    "    key_list.append(key)\n",
    "np.random.shuffle(key_list)\n",
    "print(key_list[0], key_list[20])\n",
    "\n",
    "#Instantiate the model, loss fn, Optimizer\n",
    "model = net.Net(params)\n",
    "optimizer = optim.Adam(model.parameters(), lr= params.learning_rate)\n",
    "criterion = nn.BCELoss()\n",
    "\n",
    "# Define some parameters\n",
    "image_count = len(labels_dict)\n",
    "minibatch_size = params.batch_size\n",
    "num_epochs = params.num_epochs\n",
    "channels = 3    \n",
    "num_batches = (image_count +1) // params.batch_size\n",
    "batch_data = torch.zeros([minibatch_size, 4096], dtype=torch.float32)\n",
    "batch_labels = torch.zeros([28, minibatch_size], dtype=torch.float32)"
   ]
  },
  {
   "cell_type": "code",
   "execution_count": null,
   "metadata": {
    "collapsed": true
   },
   "outputs": [],
   "source": [
    "print(minibatch_size, params.learning_rate, params.num_epochs)\n",
    "#minibatch lr epochs cost\n",
    "#32 2e-4 100 0.202\n",
    "#32 1e-4 100 0.198\n",
    "#32 5e-5 100 0.219\n",
    "#16 1e-4 100 0.204\n",
    "#16 1e-4 100 0.191  random shuffle in each epoch\n",
    "#64 1e-4 100 0.221  random shuffle in each epoch \n",
    "#64 1e-5 100 0.211  random shuffle in each epoch\n",
    "#64 1e-5 100 0.219  w/o random shuffle in each epoch\n",
    "#64 1e-3 100 0.1827 w/o random shuffle in each epoch\n",
    "#64 2e-3 100 0.196 w/o random shuffle in each epoch\n",
    "#128 1e-3 100 0.17 w/o random shuffle in each epoch\n",
    "#128 5e-3 100 0.194 w/o random shuffle in each epoch"
   ]
  },
  {
   "cell_type": "code",
   "execution_count": null,
   "metadata": {
    "collapsed": true
   },
   "outputs": [],
   "source": [
    "#Train the model over a few epochs\n",
    "for epoch in range(num_epochs):\n",
    "    #np.random.shuffle(key_list)\n",
    "    print(\"\\n******************\\n Epoch = \", epoch,\"\\n\")\n",
    "    for j in range(num_batches):\n",
    "        mini_batch_index_start = j*minibatch_size\n",
    "        mini_batch_index_end = (j+1)*minibatch_size\n",
    "        batch_image_index = key_list[mini_batch_index_start:mini_batch_index_end ]\n",
    "        #print(j, mini_batch_index_start)\n",
    "        \n",
    "        # Generate mini-batch data and labels\n",
    "        for k in range(minibatch_size):\n",
    "            img_id = key_list[mini_batch_index_start + k]\n",
    "            batch_data[k,:] = img_feature[img_id]\n",
    "            labels = torch.tensor(labels_dict[img_id], dtype= torch.float32)\n",
    "            batch_labels[:,k] = labels\n",
    "        \n",
    "        #print(img_id)\n",
    "        \n",
    "        # clear previous gradients\n",
    "        optimizer.zero_grad()\n",
    "\n",
    "        #forward propogation\n",
    "        output_batch = model.forward(batch_data)\n",
    "\n",
    "        #calculate the loss\n",
    "        loss = criterion(output_batch,batch_labels)\n",
    "        \n",
    "        # backward propogation\n",
    "        loss.backward()\n",
    "        \n",
    "        # performs parameter updates using calculated gradients\n",
    "        optimizer.step()\n",
    "        \n",
    "        #cost = loss.item()\n",
    "        #print(cost)\n",
    "        # print statistics\n",
    "        \n",
    "        '''\n",
    "        for param in model.fc1.parameters():\n",
    "            for k in range(len(param.size())):\n",
    "                print(param[k])\n",
    "        ''' \n",
    "        if (j%50 ==0):\n",
    "            cost = loss.item()\n",
    "            print('Batch #:' + str(j) + \", training cost = \" + str(cost))\n",
    "        if ((j+1)% num_batches ==0):\n",
    "            cost = loss.item()\n",
    "            print('Batch #:' + str(j) + \", End training cost = \" + str(cost))\n",
    "key_list[0] \n",
    "labels_dict[img_id].shape"
   ]
  },
  {
   "cell_type": "code",
   "execution_count": 151,
   "metadata": {
    "collapsed": true
   },
   "outputs": [],
   "source": [
    "import seaborn as sns\n",
    "import matplotlib as mpl"
   ]
  },
  {
   "cell_type": "code",
   "execution_count": 160,
   "metadata": {},
   "outputs": [
    {
     "name": "stdout",
     "output_type": "stream",
     "text": [
      "[1.2885e+04 1.2540e+03 3.6210e+03 1.5610e+03 1.8580e+03 2.5130e+03\n",
      " 1.0080e+03 2.8220e+03 5.3000e+01 4.5000e+01 2.8000e+01 1.0930e+03\n",
      " 6.8800e+02 5.3700e+02 1.0660e+03 2.1000e+01 5.3000e+02 2.1000e+02\n",
      " 9.0200e+02 1.4820e+03 1.7200e+02 3.7770e+03 8.0200e+02 2.9650e+03\n",
      " 3.2200e+02 8.2280e+03 3.2800e+02 1.1000e+01]\n"
     ]
    },
    {
     "data": {
      "image/png": "[encoded data removed]",
      "text/plain": [
       "<matplotlib.figure.Figure at 0x1e5bfd44780>"
      ]
     },
     "metadata": {},
     "output_type": "display_data"
    }
   ],
   "source": [
    "# Target labels\n",
    "LABEL_MAP = {\n",
    "    0: \"Nucleoplasm\",\n",
    "    1: \"Nuclear membrane\",\n",
    "    2: \"Nucleoli\",\n",
    "    3: \"Nucleoli fibrillar center\",   \n",
    "    4: \"Nuclear speckles\",\n",
    "    5: \"Nuclear bodies\",\n",
    "    6: \"Endoplasmic reticulum\",\n",
    "    7: \"Golgi apparatus\",\n",
    "    8: \"Peroxisomes\",\n",
    "    9:  \"Endosomes\",\n",
    "    10: \"Lysosomes\",\n",
    "    11: \"Intermediate filaments\", \n",
    "    12: \"Actin filaments\",\n",
    "    13: \"Focal adhesion sites\",\n",
    "    14: \"Microtubules\",\n",
    "    15: \"Microtubule ends\",\n",
    "    16: \"Cytokinetic bridge\",\n",
    "    17: \"Mitotic spindle\",\n",
    "    18: \"Microtubule organizing center\",  \n",
    "    19: \"Centrosome\",\n",
    "    20: \"Lipid droplets\",\n",
    "    21: \"Plasma membrane\",\n",
    "    22: \"Cell junctions\",\n",
    "    23: \"Mitochondria\",\n",
    "    24: \"Aggresome\",\n",
    "    25: \"Cytosol\",\n",
    "    26: \"Cytoplasmic bodies\",\n",
    "    27: \"Rods & rings\"\n",
    "}\n",
    "\n",
    "# Defines\n",
    "DIM_HEIGHT = DIM_WIDTH = 512\n",
    "N_CHANNELS = 4\n",
    "\n",
    "label = np.zeros((28))\n",
    "for j in range(len(labels_dict)):\n",
    "    item = key_list[j]\n",
    "    tgt_label = labels_dict[item]\n",
    "    label += tgt_label\n",
    "    \n",
    "print(label)\n",
    "xx = list(LABEL_MAP.values())\n",
    "\n",
    "plt.figure(figsize=(15, 7))\n",
    "mpl.style.use('seaborn-darkgrid')\n",
    "sns.barplot(x = label, y = xx)\n",
    "plt.title('Target Occurences', fontsize=16)\n",
    "plt.show()\n"
   ]
  },
  {
   "cell_type": "code",
   "execution_count": 167,
   "metadata": {},
   "outputs": [
    {
     "data": {
      "text/plain": [
       "'C:\\\\Users\\\\rsbandhu\\\\Documents\\\\MUSTBACKUP\\\\Details\\\\Computers\\\\DeepLearning_Stanford_CS230\\\\Project\\\\all\\\\train'"
      ]
     },
     "execution_count": 167,
     "metadata": {},
     "output_type": "execute_result"
    }
   ],
   "source": [
    "params.train_data_path"
   ]
  },
  {
   "cell_type": "code",
   "execution_count": null,
   "metadata": {
    "collapsed": true
   },
   "outputs": [],
   "source": []
  },
  {
   "cell_type": "markdown",
   "metadata": {},
   "source": [
    "# Instantiating the model and initializing the weights from my laptop, downloaded from the torch sitem the local machine. Don't need this now"
   ]
  },
  {
   "cell_type": "code",
   "execution_count": 8,
   "metadata": {},
   "outputs": [
    {
     "ename": "AttributeError",
     "evalue": "type object 'VGG' has no attribute 'vgg19_bn'",
     "output_type": "error",
     "traceback": [
      "\u001b[1;31m---------------------------------------------------------------------------\u001b[0m",
      "\u001b[1;31mAttributeError\u001b[0m                            Traceback (most recent call last)",
      "\u001b[1;32m<ipython-input-8-1c1dac4bbd3e>\u001b[0m in \u001b[0;36m<module>\u001b[1;34m()\u001b[0m\n\u001b[0;32m      1\u001b[0m \u001b[1;32mfrom\u001b[0m \u001b[0mmodels\u001b[0m\u001b[1;33m.\u001b[0m\u001b[0mVGG19_1\u001b[0m\u001b[1;33m.\u001b[0m\u001b[0mvgg\u001b[0m \u001b[1;32mimport\u001b[0m \u001b[0mVGG\u001b[0m\u001b[1;33m\u001b[0m\u001b[0m\n\u001b[0;32m      2\u001b[0m \u001b[1;31m#from models import vgg\u001b[0m\u001b[1;33m\u001b[0m\u001b[1;33m\u001b[0m\u001b[0m\n\u001b[1;32m----> 3\u001b[1;33m \u001b[0mvgg19_bn\u001b[0m \u001b[1;33m=\u001b[0m \u001b[0mVGG\u001b[0m\u001b[1;33m.\u001b[0m\u001b[0mvgg19_bn\u001b[0m\u001b[1;33m(\u001b[0m\u001b[0mpretrained\u001b[0m\u001b[1;33m=\u001b[0m\u001b[1;32mFalse\u001b[0m\u001b[1;33m)\u001b[0m\u001b[1;33m\u001b[0m\u001b[0m\n\u001b[0m\u001b[0;32m      4\u001b[0m \u001b[0mcurdir\u001b[0m \u001b[1;33m=\u001b[0m \u001b[0mos\u001b[0m\u001b[1;33m.\u001b[0m\u001b[0mgetcwd\u001b[0m\u001b[1;33m(\u001b[0m\u001b[1;33m)\u001b[0m\u001b[1;33m\u001b[0m\u001b[0m\n\u001b[0;32m      5\u001b[0m \u001b[0mvgg_dict_path\u001b[0m \u001b[1;33m=\u001b[0m \u001b[0mos\u001b[0m\u001b[1;33m.\u001b[0m\u001b[0mpath\u001b[0m\u001b[1;33m.\u001b[0m\u001b[0mjoin\u001b[0m\u001b[1;33m(\u001b[0m\u001b[0mcurdir\u001b[0m\u001b[1;33m,\u001b[0m \u001b[1;34m\"models/VGG19_1/vgg19_bn-c79401a0.pth\"\u001b[0m\u001b[1;33m)\u001b[0m\u001b[1;33m\u001b[0m\u001b[0m\n",
      "\u001b[1;31mAttributeError\u001b[0m: type object 'VGG' has no attribute 'vgg19_bn'"
     ]
    }
   ],
   "source": [
    "from models.VGG19_1.vgg import VGG\n",
    "#from models import vgg\n",
    "vgg19_bn = VGG.vgg19_bn(pretrained=False)\n",
    "curdir = os.getcwd()\n",
    "vgg_dict_path = os.path.join(curdir, \"models/VGG19_1/vgg19_bn-c79401a0.pth\")\n",
    "model_vgg19_bn.load_state_dict(torch.load(vgg_dict_path))\n",
    "\n",
    "for param in model_vgg19_bn.parameters():\n",
    "    param.requires_grad = False"
   ]
  },
  {
   "cell_type": "code",
   "execution_count": 74,
   "metadata": {},
   "outputs": [
    {
     "name": "stdout",
     "output_type": "stream",
     "text": [
      "odict_keys(['features.0.weight', 'features.0.bias', 'features.1.weight', 'features.1.bias', 'features.1.running_mean', 'features.1.running_var', 'features.3.weight', 'features.3.bias', 'features.4.weight', 'features.4.bias', 'features.4.running_mean', 'features.4.running_var', 'features.7.weight', 'features.7.bias', 'features.8.weight', 'features.8.bias', 'features.8.running_mean', 'features.8.running_var', 'features.10.weight', 'features.10.bias', 'features.11.weight', 'features.11.bias', 'features.11.running_mean', 'features.11.running_var', 'features.14.weight', 'features.14.bias', 'features.15.weight', 'features.15.bias', 'features.15.running_mean', 'features.15.running_var', 'features.17.weight', 'features.17.bias', 'features.18.weight', 'features.18.bias', 'features.18.running_mean', 'features.18.running_var', 'features.20.weight', 'features.20.bias', 'features.21.weight', 'features.21.bias', 'features.21.running_mean', 'features.21.running_var', 'features.23.weight', 'features.23.bias', 'features.24.weight', 'features.24.bias', 'features.24.running_mean', 'features.24.running_var', 'features.27.weight', 'features.27.bias', 'features.28.weight', 'features.28.bias', 'features.28.running_mean', 'features.28.running_var', 'features.30.weight', 'features.30.bias', 'features.31.weight', 'features.31.bias', 'features.31.running_mean', 'features.31.running_var', 'features.33.weight', 'features.33.bias', 'features.34.weight', 'features.34.bias', 'features.34.running_mean', 'features.34.running_var', 'features.36.weight', 'features.36.bias', 'features.37.weight', 'features.37.bias', 'features.37.running_mean', 'features.37.running_var', 'features.40.weight', 'features.40.bias', 'features.41.weight', 'features.41.bias', 'features.41.running_mean', 'features.41.running_var', 'features.43.weight', 'features.43.bias', 'features.44.weight', 'features.44.bias', 'features.44.running_mean', 'features.44.running_var', 'features.46.weight', 'features.46.bias', 'features.47.weight', 'features.47.bias', 'features.47.running_mean', 'features.47.running_var', 'features.49.weight', 'features.49.bias', 'features.50.weight', 'features.50.bias', 'features.50.running_mean', 'features.50.running_var', 'classifier.0.weight', 'classifier.0.bias', 'classifier.3.weight', 'classifier.3.bias', 'classifier.6.weight', 'classifier.6.bias'])\n",
      "odict_keys(['0.weight', '0.bias', '1.weight', '1.bias', '1.running_mean', '1.running_var', '3.weight', '3.bias', '4.weight', '4.bias', '4.running_mean', '4.running_var', '7.weight', '7.bias', '8.weight', '8.bias', '8.running_mean', '8.running_var', '10.weight', '10.bias', '11.weight', '11.bias', '11.running_mean', '11.running_var', '14.weight', '14.bias', '15.weight', '15.bias', '15.running_mean', '15.running_var', '17.weight', '17.bias', '18.weight', '18.bias', '18.running_mean', '18.running_var', '20.weight', '20.bias', '21.weight', '21.bias', '21.running_mean', '21.running_var', '23.weight', '23.bias', '24.weight', '24.bias', '24.running_mean', '24.running_var', '27.weight', '27.bias', '28.weight', '28.bias', '28.running_mean', '28.running_var', '30.weight', '30.bias', '31.weight', '31.bias', '31.running_mean', '31.running_var', '33.weight', '33.bias', '34.weight', '34.bias', '34.running_mean', '34.running_var', '36.weight', '36.bias', '37.weight', '37.bias', '37.running_mean', '37.running_var', '40.weight', '40.bias', '41.weight', '41.bias', '41.running_mean', '41.running_var', '43.weight', '43.bias', '44.weight', '44.bias', '44.running_mean', '44.running_var', '46.weight', '46.bias', '47.weight', '47.bias', '47.running_mean', '47.running_var', '49.weight', '49.bias', '50.weight', '50.bias', '50.running_mean', '50.running_var'])\n",
      "odict_keys(['weight', 'bias'])\n",
      "odict_keys(['weight', 'bias', 'running_mean', 'running_var'])\n",
      "odict_keys([])\n",
      "odict_keys(['weight', 'bias'])\n",
      "odict_keys(['weight', 'bias', 'running_mean', 'running_var'])\n",
      "odict_keys([])\n",
      "odict_keys([])\n",
      "odict_keys(['weight', 'bias'])\n",
      "odict_keys(['weight', 'bias', 'running_mean', 'running_var'])\n",
      "odict_keys([])\n",
      "odict_keys(['weight', 'bias'])\n",
      "odict_keys(['weight', 'bias', 'running_mean', 'running_var'])\n",
      "odict_keys([])\n",
      "odict_keys([])\n",
      "odict_keys(['weight', 'bias'])\n",
      "odict_keys(['weight', 'bias', 'running_mean', 'running_var'])\n",
      "odict_keys([])\n",
      "odict_keys(['weight', 'bias'])\n",
      "odict_keys(['weight', 'bias', 'running_mean', 'running_var'])\n",
      "odict_keys([])\n",
      "odict_keys(['weight', 'bias'])\n",
      "odict_keys(['weight', 'bias', 'running_mean', 'running_var'])\n",
      "odict_keys([])\n",
      "odict_keys(['weight', 'bias'])\n",
      "odict_keys(['weight', 'bias', 'running_mean', 'running_var'])\n",
      "odict_keys([])\n",
      "odict_keys([])\n",
      "odict_keys(['weight', 'bias'])\n",
      "odict_keys(['weight', 'bias', 'running_mean', 'running_var'])\n",
      "odict_keys([])\n",
      "odict_keys(['weight', 'bias'])\n",
      "odict_keys(['weight', 'bias', 'running_mean', 'running_var'])\n",
      "odict_keys([])\n",
      "odict_keys(['weight', 'bias'])\n",
      "odict_keys(['weight', 'bias', 'running_mean', 'running_var'])\n",
      "odict_keys([])\n",
      "odict_keys(['weight', 'bias'])\n",
      "odict_keys(['weight', 'bias', 'running_mean', 'running_var'])\n",
      "odict_keys([])\n",
      "odict_keys([])\n",
      "odict_keys(['weight', 'bias'])\n",
      "odict_keys(['weight', 'bias', 'running_mean', 'running_var'])\n",
      "odict_keys([])\n",
      "odict_keys(['weight', 'bias'])\n",
      "odict_keys(['weight', 'bias', 'running_mean', 'running_var'])\n",
      "odict_keys([])\n",
      "odict_keys(['weight', 'bias'])\n",
      "odict_keys(['weight', 'bias', 'running_mean', 'running_var'])\n",
      "odict_keys([])\n",
      "odict_keys(['weight', 'bias'])\n",
      "odict_keys(['weight', 'bias', 'running_mean', 'running_var'])\n",
      "odict_keys([])\n",
      "odict_keys([])\n",
      "odict_keys(['0.weight', '0.bias', '3.weight', '3.bias', '6.weight', '6.bias'])\n",
      "odict_keys(['weight', 'bias'])\n",
      "odict_keys([])\n",
      "odict_keys([])\n",
      "odict_keys(['weight', 'bias'])\n",
      "odict_keys([])\n",
      "odict_keys([])\n",
      "odict_keys(['weight', 'bias'])\n",
      "odict_keys([])\n"
     ]
    }
   ],
   "source": [
    "for x in model_vgg19_bn.classifier.children():\n",
    "    print(x)\n",
    "    for y in x.parameters():\n",
    "        print(y.requires_grad)\n",
    "for x in model_vgg19_bn.modules():\n",
    "    print(x.state_dict().keys())\n",
    "import json\n",
    "cur_dir = os.getcwd()\n",
    "print(cur_dir)\n",
    "json_path = os.path.join(cur_dir,'models\\params.json')\n",
    "f = open(json_path)\n",
    "params = json.load(f)\n",
    "#params = utils.Params(json_path)\n",
    "data_loader = Dataloader(params)"
   ]
  }
 ],
 "metadata": {
  "kernelspec": {
   "display_name": "Python 3",
   "language": "python",
   "name": "python3"
  },
  "language_info": {
   "codemirror_mode": {
    "name": "ipython",
    "version": 3
   },
   "file_extension": ".py",
   "mimetype": "text/x-python",
   "name": "python",
   "nbconvert_exporter": "python",
   "pygments_lexer": "ipython3",
   "version": "3.6.1"
  }
 },
 "nbformat": 4,
 "nbformat_minor": 2
}
